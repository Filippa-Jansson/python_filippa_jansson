{
 "cells": [
  {
   "cell_type": "code",
   "execution_count": 12,
   "id": "2c500f59",
   "metadata": {},
   "outputs": [
    {
     "name": "stdout",
     "output_type": "stream",
     "text": [
      "seq1: {'C': 8, 'G': 2, 'T': 8, 'A': 16}\n",
      "seq2: {'A': 3, 'G': 8, 'C': 5, 'T': 7}\n",
      "seq3: {'G': 16, 'C': 14, 'A': 19, 'T': 11, 'N': 2, 'E': 1}\n",
      "seq4: {'G': 18, 'C': 11, 'A': 13, 'T': 12}\n"
     ]
    }
   ],
   "source": [
    "# Här skapar jag en dictonary med DNA sekvenser.\n",
    "dna = dict(\n",
    "    seq1=\"cGTAaccaataaaaaaacagcttaaccttaattc\",\n",
    "    seq2=\"agcttagTTTGcatctgccgggg\",\n",
    "    seq3=\"gcggatttatctCCCCCAAAAANNagggegagagccagataaaatggagtctgtggctccaca\",\n",
    "    seq4=\"gcggatttatctcaggggagagcccagGGataaattggagtctgtggctccaca\"\n",
    ")\n",
    "\n",
    "# Här skapar jag en tom dictonary för att lagra räkningarna.\n",
    "dna_counts = dict()\n",
    "\n",
    "# Här skapar jag seq_id så alla keys kan lagras och sen i sequence variabeln så sparar jag värdet som finns i mina keys. DNA är ordlistan och .items hämtar både mina keys och values.\n",
    "for seq_id, sequence in dna.items():\n",
    "    # Här konverterar jag värdet i varje key till stora bokstäver så inget exkluderas i räkningen.\n",
    "    sequence = sequence.upper()  \n",
    "    # Här skapar en till dictonary för att lagra det ihopräknade värdet av varje bokstav i mina values.\n",
    "    counts = dict()\n",
    "    # Här skapar jag en variabel som heter letter \n",
    "    for letter in sequence:\n",
    "        # Här använder jag ordlistan counts och använder variebeln som jag skapade i for loopen \"letter\", därefter använder jag get metoden för att gå igenom varje bokstav i alla keys. \n",
    "        # Jag säger till get metoden att börja på plats 0 av mina keys och hoppa ett steg vidare efter varje bokstav.\n",
    "        counts[letter] = counts.get(letter, 0) + 1\n",
    "        # Här lagrar jag det ihopräknade värdet av varje bokstav och sparar det i min dna_counts ordlista som ligger utanför for loopen för att undvika att den skrivs över varje gång loopen körs.\n",
    "    dna_counts[seq_id] = counts\n",
    "\n",
    "# Här lägger jag till en funktion som skriver ut resultatet från min dna_counts ordlista.\n",
    "for seq_id, counts in dna_counts.items():\n",
    "    print(f\"{seq_id}: {counts}\")\n"
   ]
  },
  {
   "cell_type": "code",
   "execution_count": 1,
   "id": "992d0417",
   "metadata": {},
   "outputs": [
    {
     "ename": "NameError",
     "evalue": "name 'dna_counts' is not defined",
     "output_type": "error",
     "traceback": [
      "\u001b[31m---------------------------------------------------------------------------\u001b[39m",
      "\u001b[31mNameError\u001b[39m                                 Traceback (most recent call last)",
      "\u001b[36mCell\u001b[39m\u001b[36m \u001b[39m\u001b[32mIn[1]\u001b[39m\u001b[32m, line 3\u001b[39m\n\u001b[32m      1\u001b[39m \u001b[38;5;28;01mimport\u001b[39;00m\u001b[38;5;250m \u001b[39m\u001b[34;01mmatplotlib\u001b[39;00m\u001b[34;01m.\u001b[39;00m\u001b[34;01mpyplot\u001b[39;00m\u001b[38;5;250m \u001b[39m\u001b[38;5;28;01mas\u001b[39;00m\u001b[38;5;250m \u001b[39m\u001b[34;01mplt\u001b[39;00m\n\u001b[32m      2\u001b[39m \u001b[38;5;28;01mimport\u001b[39;00m\u001b[38;5;250m \u001b[39m\u001b[34;01mnumpy\u001b[39;00m\u001b[38;5;250m \u001b[39m\u001b[38;5;28;01mas\u001b[39;00m\u001b[38;5;250m \u001b[39m\u001b[34;01mnp\u001b[39;00m\n\u001b[32m----> \u001b[39m\u001b[32m3\u001b[39m \u001b[38;5;28;01mfor\u001b[39;00m seq_id, counts \u001b[38;5;129;01min\u001b[39;00m \u001b[43mdna_counts\u001b[49m.items():\n\u001b[32m      4\u001b[39m     letters = \u001b[38;5;28mlist\u001b[39m(counts.keys())\n\u001b[32m      5\u001b[39m     values = \u001b[38;5;28mlist\u001b[39m(counts.values())\n",
      "\u001b[31mNameError\u001b[39m: name 'dna_counts' is not defined"
     ]
    }
   ],
   "source": [
    "\n",
    "import matplotlib.pyplot as plt\n",
    "import numpy as np\n",
    "for seq_id, counts in dna_counts.items():\n",
    "    letters = list(counts.keys())\n",
    "    values = list(counts.values())\n",
    "\n",
    "    x = np.arange(len(letters))\n",
    "    fig, ax = plt.subplots(figsize=(6, 4))\n",
    "\n",
    "    # Rita stapeldiagram\n",
    "    ax.bar(x, values, width=0.8, edgecolor=\"white\", linewidth=0.7)\n",
    "\n",
    "    # Anpassa axlar och etiketter\n",
    "    ax.set(\n",
    "        xticks=x,\n",
    "        xticklabels=letters,\n",
    "        ylim=(0, max(values) + 2),\n",
    "        title=f\"Bokstavsfrekvens i {seq_id}\"\n",
    "    )\n",
    "\n",
    "    plt.xlabel(\"Bokstav\")\n",
    "    plt.ylabel(\"Antal\")\n",
    "    plt.show()\n"
   ]
  }
 ],
 "metadata": {
  "kernelspec": {
   "display_name": "python_filippa_jansson",
   "language": "python",
   "name": "python3"
  },
  "language_info": {
   "codemirror_mode": {
    "name": "ipython",
    "version": 3
   },
   "file_extension": ".py",
   "mimetype": "text/x-python",
   "name": "python",
   "nbconvert_exporter": "python",
   "pygments_lexer": "ipython3",
   "version": "3.12.10"
  }
 },
 "nbformat": 4,
 "nbformat_minor": 5
}
