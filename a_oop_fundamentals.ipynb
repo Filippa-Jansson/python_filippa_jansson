{
 "cells": [
  {
   "cell_type": "markdown",
   "id": "f0a62a08",
   "metadata": {},
   "source": [
    "## OOP fundamentals"
   ]
  },
  {
   "cell_type": "code",
   "execution_count": 36,
   "id": "9e7599ab",
   "metadata": {},
   "outputs": [
    {
     "data": {
      "text/plain": [
       "<__main__.Admission at 0x23ea3bc2390>"
      ]
     },
     "execution_count": 36,
     "metadata": {},
     "output_type": "execute_result"
    }
   ],
   "source": [
    "#här definierar vi en klass och en konstruktor\n",
    "class Admission:\n",
    "    def __init__(self, school, program, name, accept):\n",
    "        self.school = school\n",
    "        self.program = program\n",
    "        self.name = name\n",
    "        self.accept = accept\n",
    "\n",
    "person1 = Admission(\"cool school\", \"AI\", accept = True, name = \"Kokchun\")\n",
    "person1"
   ]
  },
  {
   "cell_type": "code",
   "execution_count": 37,
   "id": "a348d081",
   "metadata": {},
   "outputs": [
    {
     "data": {
      "text/plain": [
       "('cool school', 'Kokchun')"
      ]
     },
     "execution_count": 37,
     "metadata": {},
     "output_type": "execute_result"
    }
   ],
   "source": [
    "person1.school, person1.name"
   ]
  },
  {
   "cell_type": "code",
   "execution_count": 38,
   "id": "50fd6d19",
   "metadata": {},
   "outputs": [
    {
     "data": {
      "text/plain": [
       "'Bella'"
      ]
     },
     "execution_count": 38,
     "metadata": {},
     "output_type": "execute_result"
    }
   ],
   "source": [
    "# Här ändrar vi namnet på personen\n",
    "person1.name =\"Bella\"\n",
    "person1.name"
   ]
  },
  {
   "cell_type": "code",
   "execution_count": 39,
   "id": "04a87794",
   "metadata": {},
   "outputs": [
    {
     "data": {
      "text/plain": [
       "('Data engineering', 'AI')"
      ]
     },
     "execution_count": 39,
     "metadata": {},
     "output_type": "execute_result"
    }
   ],
   "source": [
    "\n",
    "person2 = Admission(\"Cooler school\", \"Data engineering\", accept=False, name = \"Gore Bord\")\n",
    "person2.program, person1.program"
   ]
  },
  {
   "cell_type": "code",
   "execution_count": 40,
   "id": "72914fc9",
   "metadata": {},
   "outputs": [
    {
     "data": {
      "text/plain": [
       "False"
      ]
     },
     "execution_count": 40,
     "metadata": {},
     "output_type": "execute_result"
    }
   ],
   "source": [
    "#Här kollar vi på minnesadressen för objekten\n",
    "person1 == person2"
   ]
  },
  {
   "cell_type": "code",
   "execution_count": 41,
   "id": "4a141834",
   "metadata": {},
   "outputs": [
    {
     "data": {
      "text/plain": [
       "('0x23ea3bc2390', '0x23ea3bc1c10')"
      ]
     },
     "execution_count": 41,
     "metadata": {},
     "output_type": "execute_result"
    }
   ],
   "source": [
    "#Här kollar vi på minnesadressen för objekten och båda har olika adresser\n",
    "hex(id(person1)), hex(id(person2))"
   ]
  },
  {
   "cell_type": "markdown",
   "id": "9ec3d6be",
   "metadata": {},
   "source": [
    "# __repr__"
   ]
  },
  {
   "cell_type": "code",
   "execution_count": 42,
   "id": "2b4f51c0",
   "metadata": {},
   "outputs": [
    {
     "data": {
      "text/plain": [
       "Admission(school ='Cool school', program='Java', name = 'Victor Freeze', accept = True)"
      ]
     },
     "execution_count": 42,
     "metadata": {},
     "output_type": "execute_result"
    }
   ],
   "source": [
    "class Admission:\n",
    "    def __init__(self, school, program, name, accept):\n",
    "        self.school = school\n",
    "        self.program = program\n",
    "        self.name = name\n",
    "        self.accept = accept\n",
    "# om du vill ha tillgång till attributen i klassen så måste man använda .self framför attributet\n",
    "    def __str__(self):\n",
    "        return f\"{self.name} is admitted to {self.program}, accepted: {self.accept}\"\n",
    "    \n",
    "    def __repr__(self):\n",
    "        return f\"Admission(school ='{self.school}', program='{self.program}', name = '{self.name}', accept = {self.accept})\"\n",
    "        \n",
    "student = Admission(\"Cool school\", \"Java\", \"Victor Freeze\", True)\n",
    "student\n"
   ]
  },
  {
   "cell_type": "code",
   "execution_count": 43,
   "id": "8157e95a",
   "metadata": {},
   "outputs": [
    {
     "name": "stdout",
     "output_type": "stream",
     "text": [
      "Victor Freeze is admitted to Java, accepted: True\n"
     ]
    }
   ],
   "source": [
    "#python kollar på dunder metoden __repr__ när vi printar ett objekt. Även om det inte finns en string så kollar python efter __repr__ metoden som en fallback\n",
    "print(student)"
   ]
  },
  {
   "cell_type": "code",
   "execution_count": 44,
   "id": "0b9aee81",
   "metadata": {},
   "outputs": [
    {
     "data": {
      "text/plain": [
       "'Victor Freeze is admitted to Java, accepted: True'"
      ]
     },
     "execution_count": 44,
     "metadata": {},
     "output_type": "execute_result"
    }
   ],
   "source": [
    "str(student)"
   ]
  }
 ],
 "metadata": {
  "kernelspec": {
   "display_name": "Python 3",
   "language": "python",
   "name": "python3"
  },
  "language_info": {
   "codemirror_mode": {
    "name": "ipython",
    "version": 3
   },
   "file_extension": ".py",
   "mimetype": "text/x-python",
   "name": "python",
   "nbconvert_exporter": "python",
   "pygments_lexer": "ipython3",
   "version": "3.12.10"
  }
 },
 "nbformat": 4,
 "nbformat_minor": 5
}
