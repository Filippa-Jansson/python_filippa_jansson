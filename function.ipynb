{
 "cells": [
  {
   "cell_type": "markdown",
   "id": "6f08ef11",
   "metadata": {},
   "source": [
    "#Functions"
   ]
  },
  {
   "cell_type": "code",
   "execution_count": null,
   "id": "e7655b35",
   "metadata": {},
   "outputs": [],
   "source": [
    "#create a single example of function\n",
    "def squarer(x): #use keyword def; squarer is the function name; x is the parameter\n",
    "    result =x**2 #statements\n",
    "    return result #return block define the output"
   ]
  },
  {
   "cell_type": "code",
   "execution_count": null,
   "id": "ecc70112",
   "metadata": {},
   "outputs": [],
   "source": [
    "#call for a function\n",
    "squarer(2) #cite the function; () is the callable, you call for a function; argument, is the vaulue\n"
   ]
  },
  {
   "cell_type": "code",
   "execution_count": null,
   "id": "c39dbf9c",
   "metadata": {},
   "outputs": [],
   "source": [
    "squarer (1)"
   ]
  },
  {
   "cell_type": "markdown",
   "id": "981f1648",
   "metadata": {},
   "source": [
    "Positional arguments"
   ]
  },
  {
   "cell_type": "code",
   "execution_count": null,
   "id": "ea53b95d",
   "metadata": {},
   "outputs": [],
   "source": [
    "def my_fruits (fruit_like, fruit_hate):\n",
    "    print (f\"I like to eat {fruit_like}\")\n",
    "    print (f\"But I hate to eat {fruit_hate}\")\n",
    "    return None #python will and this line if you dont have a return block"
   ]
  },
  {
   "cell_type": "code",
   "execution_count": null,
   "id": "ac4db7bb",
   "metadata": {},
   "outputs": [],
   "source": [
    "#Suppos I like to eat orange and hate to eat apple\n",
    "#Check out what is the problem in the order of the arguments below\n",
    "my_fruits(\"apple\", \"orange\")"
   ]
  },
  {
   "cell_type": "markdown",
   "id": "2b05e89f",
   "metadata": {},
   "source": [
    "Keyword arguments"
   ]
  },
  {
   "cell_type": "code",
   "execution_count": null,
   "id": "2fba173e",
   "metadata": {},
   "outputs": [],
   "source": [
    "# if you dont want to depend on the position of the arguments, provide also the parameter names also\n",
    "my_fruits(fruit_hate=\"apple\", fruit_like=\"orange\")"
   ]
  },
  {
   "cell_type": "code",
   "execution_count": null,
   "id": "ffeb141e",
   "metadata": {},
   "outputs": [],
   "source": [
    "#what if i provide three fruits\n",
    "#Due to the error we nee to think about other ways to take care of unknown number of arguments\n",
    "my_fruits(\"apple\",\"orange\", \"strawberry\") #blir en error, "
   ]
  },
  {
   "cell_type": "markdown",
   "id": "e271cfdc",
   "metadata": {},
   "source": [
    "Unknown number of positional arguments"
   ]
  },
  {
   "cell_type": "code",
   "execution_count": null,
   "id": "bbc56131",
   "metadata": {},
   "outputs": [],
   "source": [
    "#suppose that i want to print out all fruits that are imputed as arguments to a function\n",
    "#we will use a symbol * (star) in the parameter\n",
    "\n",
    "def print_fruits(*fruits): # * has two meanings: postitional arguments, the nr of arguments ill be unknown\n",
    "    for fruit in fruits:\n",
    "        print(fruit)\n",
    "        return type(fruits)"
   ]
  },
  {
   "cell_type": "code",
   "execution_count": null,
   "id": "b69f9621",
   "metadata": {},
   "outputs": [],
   "source": [
    "print_fruits(\"apple\", \"orange\", \"kiwi\", \"strawberry\")"
   ]
  },
  {
   "cell_type": "markdown",
   "id": "53a0e10b",
   "metadata": {},
   "source": [
    "Unknown number of keywords arguments"
   ]
  },
  {
   "cell_type": "code",
   "execution_count": null,
   "id": "8c3c2ea4",
   "metadata": {},
   "outputs": [],
   "source": [
    "def print_nr_fruits(**fruits):\n",
    "    for key, value in fruits,items():\n",
    "        print(key, value)\n",
    "        return type(fruits)"
   ]
  },
  {
   "cell_type": "code",
   "execution_count": null,
   "id": "14b3a8ae",
   "metadata": {},
   "outputs": [],
   "source": [
    "print_nr_fruits(fruit1=\"orange\", fruit2=\"apple\") #key is provided when calling for the function"
   ]
  }
 ],
 "metadata": {
  "kernelspec": {
   "display_name": "inputoutput",
   "language": "python",
   "name": "python3"
  },
  "language_info": {
   "name": "python",
   "version": "3.12.10"
  }
 },
 "nbformat": 4,
 "nbformat_minor": 5
}
