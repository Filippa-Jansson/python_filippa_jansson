{
 "cells": [
  {
   "cell_type": "code",
   "execution_count": 3,
   "id": "5a635461",
   "metadata": {},
   "outputs": [
    {
     "name": "stdout",
     "output_type": "stream",
     "text": [
      "Hello world\n"
     ]
    }
   ],
   "source": [
    "print ('Hello world')"
   ]
  },
  {
   "cell_type": "code",
   "execution_count": 1,
   "id": "32d6a2a6",
   "metadata": {},
   "outputs": [],
   "source": [
    "#define a class with name Admission\n",
    "class Admission:\n",
    "    #\"dunder init\" - initializer - note 2 underscores before and the init\n",
    "    #this method will be run when you instantiate a instance from this class\n",
    "    def _init_(self, school, name, program = \"Cool program\"):\n",
    "\n",
    "        #set the attributes to the value from the arguments\n",
    "        self.school = school\n",
    "        self.name = name\n",
    "        self.program = program \n",
    "\n",
    "#instantiate the instance person1 that is of type admission\n",
    "        person1 = Admission(\"STI\", \"Ceda\")\n",
    "\n",
    "        person1.school\n"
   ]
  },
  {
   "cell_type": "code",
   "execution_count": 2,
   "id": "55d014d5",
   "metadata": {},
   "outputs": [
    {
     "ename": "NameError",
     "evalue": "name 'false' is not defined",
     "output_type": "error",
     "traceback": [
      "\u001b[31m---------------------------------------------------------------------------\u001b[39m",
      "\u001b[31mNameError\u001b[39m                                 Traceback (most recent call last)",
      "\u001b[36mCell\u001b[39m\u001b[36m \u001b[39m\u001b[32mIn[2]\u001b[39m\u001b[32m, line 13\u001b[39m\n\u001b[32m     11\u001b[39m age = \u001b[32m23\u001b[39m, \n\u001b[32m     12\u001b[39m school = \u001b[33m\"\u001b[39m\u001b[33mSTI\u001b[39m\u001b[33m\"\u001b[39m, \n\u001b[32m---> \u001b[39m\u001b[32m13\u001b[39m passed = \u001b[43mfalse\u001b[49m \n",
      "\u001b[31mNameError\u001b[39m: name 'false' is not defined"
     ]
    }
   ],
   "source": [
    "#Miniuppgift\n",
    "\n",
    "class Student:\n",
    "    def _init_(self, name, passed, school, age):\n",
    "        self.school = school\n",
    "        self.passed = passed\n",
    "        self.school = school\n",
    "        self.age = age\n",
    "student1 = Student \n",
    "name = \"Dadda\", \n",
    "age = 23, \n",
    "school = \"STI\", \n",
    "passed = false \n"
   ]
  }
 ],
 "metadata": {
  "kernelspec": {
   "display_name": "inputoutput",
   "language": "python",
   "name": "python3"
  },
  "language_info": {
   "codemirror_mode": {
    "name": "ipython",
    "version": 3
   },
   "file_extension": ".py",
   "mimetype": "text/x-python",
   "name": "python",
   "nbconvert_exporter": "python",
   "pygments_lexer": "ipython3",
   "version": "3.12.10"
  }
 },
 "nbformat": 4,
 "nbformat_minor": 5
}
