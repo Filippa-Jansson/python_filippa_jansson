{
 "cells": [
  {
   "cell_type": "markdown",
   "id": "85c53dba",
   "metadata": {},
   "source": [
    "#### En klass i Python är som en låda 📦.\n",
    "#### Inuti lådan finns data (t.ex. namn, saldo, lösenord).\n",
    "#### Med encapsulation sätter du ett lock på lådan, så ingen kan peta på innehållet direkt — de måste använda knappar på utsidan (metoder) för att komma åt det."
   ]
  },
  {
   "cell_type": "code",
   "execution_count": 5,
   "id": "537e481c",
   "metadata": {},
   "outputs": [
    {
     "data": {
      "text/plain": [
       "Patient(Gore Bord)"
      ]
     },
     "execution_count": 5,
     "metadata": {},
     "output_type": "execute_result"
    }
   ],
   "source": [
    "class Patient:\n",
    "    def __init__(self, name, diagnosis):\n",
    "        self._name = name\n",
    "\n",
    "    def __repr__(self):\n",
    "        return f\"Patient({self._name})\"\n",
    "    \n",
    "\n",
    "patient1 = Patient(\"Gore Bord\", \"migraine\")\n",
    "patient1"
   ]
  },
  {
   "cell_type": "code",
   "execution_count": 10,
   "id": "3e9f8669",
   "metadata": {},
   "outputs": [
    {
     "data": {
      "text/plain": [
       "'Gore Bord'"
      ]
     },
     "execution_count": 10,
     "metadata": {},
     "output_type": "execute_result"
    }
   ],
   "source": [
    "# patient1.name skulle ej funka för att vi har encapsulerat attributet name med en underscore (_)\n",
    "patient1._name"
   ]
  },
  {
   "cell_type": "code",
   "execution_count": null,
   "id": "ab56ba7e",
   "metadata": {},
   "outputs": [
    {
     "data": {
      "text/plain": [
       "Patient(Bella)"
      ]
     },
     "execution_count": 11,
     "metadata": {},
     "output_type": "execute_result"
    }
   ],
   "source": [
    "# Man kan göra detta men det är inte rekommenderat för att det bryter encapsulation principen\n",
    "patient1._name = \"Bella\"\n",
    "patient1"
   ]
  },
  {
   "cell_type": "code",
   "execution_count": 12,
   "id": "b5de35eb",
   "metadata": {},
   "outputs": [
    {
     "data": {
      "text/plain": [
       "Patient(Anna, headache)"
      ]
     },
     "execution_count": 12,
     "metadata": {},
     "output_type": "execute_result"
    }
   ],
   "source": [
    "class Patient:\n",
    "    def __init__(self, name, diagnosis):\n",
    "        self._name = name\n",
    "        self.__diagnosis = diagnosis\n",
    "\n",
    "    def __repr__(self):\n",
    "        return f\"Patient({self._name}, {self.__diagnosis})\"\n",
    "    \n",
    "patient2 = Patient(\"Anna\", \"headache\")\n",
    "patient2"
   ]
  },
  {
   "cell_type": "code",
   "execution_count": null,
   "id": "98490e3d",
   "metadata": {},
   "outputs": [],
   "source": [
    "patient2.__diagnosis  # Detta kommer inte funka eftersom diagnosis är dubbel encapsulerat"
   ]
  },
  {
   "cell_type": "code",
   "execution_count": 13,
   "id": "e8c0b316",
   "metadata": {},
   "outputs": [
    {
     "data": {
      "text/plain": [
       "{'_name': 'Anna', '_Patient__diagnosis': 'headache'}"
      ]
     },
     "execution_count": 13,
     "metadata": {},
     "output_type": "execute_result"
    }
   ],
   "source": [
    "patient2.__dict__"
   ]
  },
  {
   "cell_type": "code",
   "execution_count": 14,
   "id": "5866268d",
   "metadata": {},
   "outputs": [
    {
     "data": {
      "text/plain": [
       "'headache'"
      ]
     },
     "execution_count": 14,
     "metadata": {},
     "output_type": "execute_result"
    }
   ],
   "source": [
    "patient2._Patient__diagnosis"
   ]
  },
  {
   "cell_type": "code",
   "execution_count": null,
   "id": "63de0ea0",
   "metadata": {},
   "outputs": [
    {
     "data": {
      "text/plain": [
       "OldCoinStash(owner = 'Ragnar')"
      ]
     },
     "execution_count": 17,
     "metadata": {},
     "output_type": "execute_result"
    }
   ],
   "source": [
    "class OldCoinStash:\n",
    "    def __init__(self, owner):\n",
    "        self.owner = owner\n",
    "        self._riksdaler = 0\n",
    "        self.skilling = 0\n",
    "\n",
    "    def deposit(self, riksdaler, skilling):\n",
    "        if riksdaler <= 0 or skilling < 0:\n",
    "            raise ValueError(f\"You try to deposit {riksdaler} riksdaler and {skilling} skilling. They have to be positive\")\n",
    "        self._riksdaler += riksdaler\n",
    "        self.skilling += skilling\n",
    "\n",
    "    def __repr__(self):\n",
    "        return f\"OldCoinStash(owner = '{self.owner}')\"\n",
    "\n",
    "stash1 = OldCoinStash(\"Ragnar\")\n",
    "\n",
    "stash1"
   ]
  },
  {
   "cell_type": "code",
   "execution_count": 25,
   "id": "870200eb",
   "metadata": {},
   "outputs": [],
   "source": [
    "\n",
    "try:\n",
    "    stash1.deposit(-5, 2)\n",
    "except ValueError as e:\n",
    "    print(e)"
   ]
  }
 ],
 "metadata": {
  "kernelspec": {
   "display_name": "Python 3",
   "language": "python",
   "name": "python3"
  },
  "language_info": {
   "codemirror_mode": {
    "name": "ipython",
    "version": 3
   },
   "file_extension": ".py",
   "mimetype": "text/x-python",
   "name": "python",
   "nbconvert_exporter": "python",
   "pygments_lexer": "ipython3",
   "version": "3.12.10"
  }
 },
 "nbformat": 4,
 "nbformat_minor": 5
}
