{
 "cells": [
  {
   "cell_type": "markdown",
   "id": "5b152e52",
   "metadata": {},
   "source": [
    "uv pip install matplotlib-inline"
   ]
  },
  {
   "cell_type": "code",
   "execution_count": null,
   "id": "b604acd4",
   "metadata": {},
   "outputs": [],
   "source": [
    "import matplotlib.pyplot as plt\n",
    "import matplotlib\n",
    "\n",
    "plt.plot()"
   ]
  }
 ],
 "metadata": {
  "kernelspec": {
   "display_name": "inputoutput",
   "language": "python",
   "name": "python3"
  },
  "language_info": {
   "name": "python",
   "version": "3.12.10"
  }
 },
 "nbformat": 4,
 "nbformat_minor": 5
}
