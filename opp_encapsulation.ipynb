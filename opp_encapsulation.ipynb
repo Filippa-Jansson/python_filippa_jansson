{
 "cells": [
  {
   "cell_type": "markdown",
   "id": "86890b0f",
   "metadata": {},
   "source": [
    "# OOP encapsulation\n",
    "- information hiding\n",
    "- You dont need to know underlying how it works (typ ytlig information)\n",
    "- for an example we can hide variation - e.g. proper age for a person \n",
    "- user of your class reads to know how to use it- i.e. which methods and attributes can be used"
   ]
  },
  {
   "cell_type": "markdown",
   "id": "a2bdfe9e",
   "metadata": {},
   "source": [
    "#everything is public\n",
    "\n",
    "class Person:\n",
    "    def _init_(self, name, age):\n",
    "        self.name = name\n",
    "        self.age = age\n",
    " p1 = Person (\"Anna\", 28)  \n",
    " p1.name, p1.age     "
   ]
  },
  {
   "cell_type": "code",
   "execution_count": null,
   "id": "2d1a0ed4",
   "metadata": {},
   "outputs": [],
   "source": [
    "p7.age = -5\n",
    "p7"
   ]
  }
 ],
 "metadata": {
  "kernelspec": {
   "display_name": "inputoutput",
   "language": "python",
   "name": "python3"
  },
  "language_info": {
   "name": "python",
   "version": "3.12.10"
  }
 },
 "nbformat": 4,
 "nbformat_minor": 5
}
